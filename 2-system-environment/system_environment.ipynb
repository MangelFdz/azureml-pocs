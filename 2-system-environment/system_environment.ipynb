{
  "cells": [
    {
      "cell_type": "code",
      "source": [
        "from azureml.core import Workspace, Environment, ComputeTarget, Experiment\r\n",
        "from azureml.core.environment import CondaDependencies\r\n",
        "\r\n",
        "ws = Workspace.from_config()\r\n",
        "\r\n",
        "cpu_target = ComputeTarget(ws, name='tutorial-ma')\r\n",
        "\r\n",
        "experiment = Experiment(ws, name='system-managed-sklearn-experiment')\r\n",
        "\r\n",
        "# custom environment\r\n",
        "env = Environment.get(ws, name='AzureML-sklearn-0.24-ubuntu18.04-py37-cpu')\r\n",
        "myenv = env.clone('system_managed_sklean')\r\n",
        "conda_dep = CondaDependencies()\r\n",
        "conda_dep.add_conda_package('azureml-core')\r\n",
        "myenv.python.conda_dependencies = conda_dep\r\n",
        "_ = myenv.register(ws)"
      ],
      "outputs": [],
      "execution_count": 7,
      "metadata": {
        "gather": {
          "logged": 1662797477584
        }
      }
    },
    {
      "cell_type": "code",
      "source": [
        "%%writefile system_environment_train.py\r\n",
        "\r\n",
        "import joblib\r\n",
        "\r\n",
        "from sklearn.datasets import load_diabetes\r\n",
        "from sklearn.linear_model import Ridge\r\n",
        "import sklearn\r\n",
        "\r\n",
        "from azureml.core import Dataset\r\n",
        "from azureml.core.run import Run\r\n",
        "import numpy as np\r\n",
        "\r\n",
        "from azureml.core import Model\r\n",
        "from azureml.core.resource_configuration import ResourceConfiguration\r\n",
        "\r\n",
        "X, y = load_diabetes(return_X_y=True)\r\n",
        "model = Ridge().fit(X, y)\r\n",
        "\r\n",
        "joblib.dump(model, 'sklearn_regression_model.pkl')\r\n",
        "\r\n",
        "# Save datasets\r\n",
        "np.savetxt('features.csv', X, delimiter=',')\r\n",
        "np.savetxt('labels.csv', y, delimiter=',')\r\n",
        "\r\n",
        "run = Run.get_context()\r\n",
        "ws = run.experiment.workspace\r\n",
        "datastore = ws.get_default_datastore()\r\n",
        "datastore.upload_files(\r\n",
        "    files=['./features.csv', './labels.csv'],\r\n",
        "    target_path='sklearn_regression/',\r\n",
        "    overwrite=True,\r\n",
        "    )\r\n",
        "\r\n",
        "input_dataset = Dataset.Tabular.from_delimited_files(path=[(datastore, 'sklearn_regression/features.csv')])\r\n",
        "output_dataset = Dataset.Tabular.from_delimited_files(path=[(datastore, 'sklearn_regression/labels.csv')])\r\n",
        "\r\n",
        "# Register model\r\n",
        "model = Model.register(\r\n",
        "    workspace=ws,\r\n",
        "    model_name='my-sklearn-model',\r\n",
        "    model_path='./sklearn_regression_model.pkl',\r\n",
        "    model_framework=Model.Framework.SCIKITLEARN,\r\n",
        "    model_framework_version=sklearn.__version__,\r\n",
        "    sample_input_dataset=input_dataset,\r\n",
        "    sample_output_dataset=output_dataset,\r\n",
        "    resource_configuration=ResourceConfiguration(cpu=1, memory_in_gb=0.5),\r\n",
        "    description='Ridge regression model to predictdisbetes progression.',\r\n",
        "    tags={'area': 'diabetes', 'type': 'regression'},\r\n",
        ")\r\n",
        "\r\n",
        "print('Name:', model.name)\r\n",
        "print('Version:', model.version)\r\n"
      ],
      "outputs": [
        {
          "output_type": "stream",
          "name": "stdout",
          "text": "Overwriting system_environment_train.py\n"
        }
      ],
      "execution_count": 9,
      "metadata": {
        "jupyter": {
          "source_hidden": false,
          "outputs_hidden": false
        },
        "nteract": {
          "transient": {
            "deleting": false
          }
        }
      }
    },
    {
      "cell_type": "code",
      "source": [
        "from azureml.core import ScriptRunConfig\r\n",
        "\r\n",
        "config = ScriptRunConfig(\r\n",
        "    source_directory='.',\r\n",
        "    script='system_environment_train.py',\r\n",
        "    compute_target=cpu_target,\r\n",
        "    environment=myenv,\r\n",
        ")\r\n",
        "\r\n",
        "run = experiment.submit(config)\r\n",
        "\r\n",
        "aml_run = run.get_portal_url()\r\n",
        "print(aml_run)\r\n"
      ],
      "outputs": [
        {
          "output_type": "stream",
          "name": "stdout",
          "text": "https://ml.azure.com/runs/system-managed-sklearn-experiment_1662797734_602425c3?wsid=/subscriptions/bbcac4cb-3713-4dc7-ad64-f8ffd50248c3/resourcegroups/rg-machinelearning-bigdatafecisa/workspaces/mlw-bigdatafecisa&tid=da060e56-5e46-475d-8b74-5fb187bd2177\n"
        }
      ],
      "execution_count": 10,
      "metadata": {
        "jupyter": {
          "source_hidden": false,
          "outputs_hidden": false
        },
        "nteract": {
          "transient": {
            "deleting": false
          }
        },
        "gather": {
          "logged": 1662797737459
        }
      }
    }
  ],
  "metadata": {
    "kernelspec": {
      "name": "python38-azureml",
      "language": "python",
      "display_name": "Python 3.8 - AzureML"
    },
    "language_info": {
      "name": "python",
      "version": "3.8.5",
      "mimetype": "text/x-python",
      "codemirror_mode": {
        "name": "ipython",
        "version": 3
      },
      "pygments_lexer": "ipython3",
      "nbconvert_exporter": "python",
      "file_extension": ".py"
    },
    "kernel_info": {
      "name": "python38-azureml"
    },
    "microsoft": {
      "host": {
        "AzureML": {
          "notebookHasBeenCompleted": true
        }
      }
    },
    "nteract": {
      "version": "nteract-front-end@1.0.0"
    }
  },
  "nbformat": 4,
  "nbformat_minor": 2
}