{
  "cells": [
    {
      "cell_type": "code",
      "source": [
        "from azureml.core.workspace import Workspace\r\n",
        "ws = Workspace.from_config()"
      ],
      "outputs": [],
      "execution_count": null,
      "metadata": {}
    },
    {
      "cell_type": "code",
      "source": [
        "%%writefile fairness_requirements.txt\r\n",
        "\r\n",
        "azureml-core\r\n",
        "scikit-learn\r\n",
        "azureml-dataset-runtime\r\n",
        "azureml-contrib-fairness\r\n",
        "fairlearn==0.7.0\r\n",
        "raiwidgets\r\n",
        "numpy<=1.20.0\r\n",
        "lightgbm"
      ],
      "outputs": [],
      "execution_count": null,
      "metadata": {
        "jupyter": {
          "source_hidden": false,
          "outputs_hidden": false
        },
        "nteract": {
          "transient": {
            "deleting": false
          }
        }
      }
    },
    {
      "cell_type": "code",
      "source": [
        "from azureml.core import Environment\r\n",
        "from azureml.core.environment import CondaDependencies\r\n",
        "myenv = Environment.from_pip_requirements(\r\n",
        "    name=\"fairness-environment\", \r\n",
        "    file_path=\"fairness_requirements.txt\",\r\n",
        "    )\r\n",
        "myenv.register(workspace=ws)"
      ],
      "outputs": [],
      "execution_count": null,
      "metadata": {
        "jupyter": {
          "source_hidden": false,
          "outputs_hidden": false
        },
        "nteract": {
          "transient": {
            "deleting": false
          }
        }
      }
    },
    {
      "cell_type": "code",
      "source": [
        "%%writefile fairness_train.py\r\n",
        "\r\n",
        "import joblib\r\n",
        "\r\n",
        "from sklearn.datasets import load_diabetes\r\n",
        "from sklearn.linear_model import Ridge\r\n",
        "import sklearn\r\n",
        "\r\n",
        "from azureml.core import Dataset\r\n",
        "from azureml.core.run import Run\r\n",
        "import numpy as np\r\n",
        "import sklearn\r\n",
        "\r\n",
        "from azureml.core import Model\r\n",
        "from azureml.core.resource_configuration import ResourceConfiguration\r\n",
        "\r\n",
        "from sklearn.model_selection import train_test_split\r\n",
        "\r\n",
        "\r\n",
        "dataset_x, dataset_y = load_diabetes(as_frame=True, return_X_y = True)\r\n",
        "sensitive = dataset_x[[\"age\", \"sex\"]]\r\n",
        "dataset_x.drop(labels=[\"age\", \"sex\"], axis=1)\r\n",
        "(X_train, X_test, y_train, y_test, A_train, A_test) = train_test_split(\r\n",
        "    dataset_x, dataset_y, sensitive, test_size=0.3, random_state=12345\r\n",
        ")\r\n",
        "\r\n",
        "## Align indices\r\n",
        "X_train = X_train.reset_index(drop=True)\r\n",
        "X_test = X_test.reset_index(drop=True)\r\n",
        "y_train = y_train.reset_index(drop=True)\r\n",
        "y_test = y_test.reset_index(drop=True)\r\n",
        "A_train = A_train.reset_index(drop=True)\r\n",
        "A_test = A_test.reset_index(drop=True)\r\n",
        "\r\n",
        "\r\n",
        "model = Ridge().fit(X_train, y_train)\r\n",
        "\r\n",
        "joblib.dump(model, 'sklearn_regression_model.pkl')\r\n",
        "\r\n",
        "print('Model trained')\r\n",
        "\r\n",
        "\r\n",
        "## Store sample input and output datasets into Azure\r\n",
        "\r\n",
        "np.savetxt('features.csv', X_train, delimiter=',')\r\n",
        "np.savetxt('labels.csv', y_train, delimiter=',')\r\n",
        "run = Run.get_context()\r\n",
        "ws = run.experiment.workspace\r\n",
        "datastore = ws.get_default_datastore()\r\n",
        "datastore.upload_files(files=['./features.csv', './labels.csv'],\r\n",
        "                       target_path='sklearn_regression/',\r\n",
        "                       overwrite=True)\r\n",
        "\r\n",
        "input_dataset = Dataset.Tabular.from_delimited_files(path=[(datastore, 'sklearn_regression/features.csv')])\r\n",
        "output_dataset = Dataset.Tabular.from_delimited_files(path=[(datastore, 'sklearn_regression/labels.csv')])\r\n",
        "## Register model\r\n",
        "\r\n",
        "registered_model = Model.register(workspace=ws,\r\n",
        "                       model_name='fair_model',                # Name of the registered model in your workspace.\r\n",
        "                       model_path='./sklearn_regression_model.pkl',  # Local file to upload and register as a model.\r\n",
        "                       model_framework=Model.Framework.SCIKITLEARN,  # Framework used to create the model.\r\n",
        "                       model_framework_version=sklearn.__version__,  # Version of scikit-learn used to create the model.\r\n",
        "                       sample_input_dataset=input_dataset,\r\n",
        "                       sample_output_dataset=output_dataset,\r\n",
        "                       resource_configuration=ResourceConfiguration(cpu=1, memory_in_gb=0.5),\r\n",
        "                       description='Ridge regression model to predict diabetes progression.',\r\n",
        "                       tags={'area': 'diabetes', 'type': 'regression'})\r\n",
        "\r\n",
        "print('Name:', registered_model.name)\r\n",
        "print('Version:', registered_model.version)\r\n",
        "\r\n",
        "\r\n",
        "## Check fairness\r\n",
        "from fairlearn.metrics._group_metric_set import _create_group_metric_set\r\n",
        "from azureml.contrib.fairness import upload_dashboard_dictionary, download_dashboard_by_upload_id\r\n",
        "\r\n",
        "#  Create a dictionary of model(s) you want to assess for fairness \r\n",
        "sf = { 'Age': A_test.age, 'Sex': A_test.sex}\r\n",
        "ys_pred = { registered_model.id: model.predict(X_test)}\r\n",
        "\r\n",
        "dash_dict = _create_group_metric_set(y_true=y_test,\r\n",
        "                                    predictions=ys_pred,\r\n",
        "                                    sensitive_features=sf,\r\n",
        "                                    prediction_type='regression')\r\n",
        "\r\n",
        "\r\n",
        "exp = run.experiment\r\n",
        "run = exp.start_logging()\r\n",
        "\r\n",
        "# Upload the dashboard to Azure Machine Learning\r\n",
        "try:\r\n",
        "    dashboard_title = \"Fairness insights of Ridge Regression Diabetes\"\r\n",
        "    # Set validate_model_ids parameter of upload_dashboard_dictionary to False if you have not registered your model(s)\r\n",
        "    upload_id = upload_dashboard_dictionary(run,\r\n",
        "                                            dash_dict,\r\n",
        "                                            dashboard_name=dashboard_title)\r\n",
        "    print(\"\\nUploaded to id: {0}\\n\".format(upload_id))\r\n",
        "finally:\r\n",
        "    run.complete()"
      ],
      "outputs": [],
      "execution_count": null,
      "metadata": {
        "jupyter": {
          "source_hidden": false,
          "outputs_hidden": false
        },
        "nteract": {
          "transient": {
            "deleting": false
          }
        }
      }
    }
  ],
  "metadata": {
    "kernelspec": {
      "name": "python38-azureml",
      "language": "python",
      "display_name": "Python 3.8 - AzureML"
    },
    "language_info": {
      "name": "python",
      "version": "3.8.5",
      "mimetype": "text/x-python",
      "codemirror_mode": {
        "name": "ipython",
        "version": 3
      },
      "pygments_lexer": "ipython3",
      "nbconvert_exporter": "python",
      "file_extension": ".py"
    },
    "kernel_info": {
      "name": "python38-azureml"
    },
    "nteract": {
      "version": "nteract-front-end@1.0.0"
    }
  },
  "nbformat": 4,
  "nbformat_minor": 2
}