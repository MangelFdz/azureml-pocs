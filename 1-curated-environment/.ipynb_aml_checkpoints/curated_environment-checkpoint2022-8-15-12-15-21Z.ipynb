{
  "cells": [
    {
      "cell_type": "code",
      "source": [
        "from azureml.core import Workspace, Experiment, Environment, ComputeTarget, ScriptRunConfig, VERSION\r\n",
        "print(VERSION)\r\n",
        "\r\n",
        "ws = Workspace.from_config()\r\n",
        "\r\n",
        "cpu_target = ComputeTarget(ws, name='tutorial-ma')\r\n",
        "\r\n",
        "experiment = Experiment(ws, name='curated-environment-experiment')\r\n",
        "\r\n",
        "curated_env = Environment.get(ws, name='AzureML-sklearn-0.24-ubuntu18.04-py37-cpu')"
      ],
      "outputs": [
        {
          "output_type": "stream",
          "name": "stdout",
          "text": "1.44.0\n"
        }
      ],
      "execution_count": 1,
      "metadata": {
        "gather": {
          "logged": 1662797106087
        }
      }
    },
    {
      "cell_type": "code",
      "source": [
        "%%writefile curated_environment_train.py\r\n",
        "\r\n",
        "import joblib\r\n",
        "from sklearn.datasets import load_diabetes\r\n",
        "from sklearn.linear_model import Ridge\r\n",
        "import sklearn\r\n",
        "\r\n",
        "X, y = load_diabetes(return_X_y=True)\r\n",
        "print('Model Training...')\r\n",
        "model = Ridge().fit(X, y)\r\n",
        "\r\n",
        "joblib.dump(model, 'sklearn_ridge_model.pkl')\r\n",
        "\r\n",
        "print('Model Trained!')"
      ],
      "outputs": [
        {
          "output_type": "stream",
          "name": "stdout",
          "text": "Overwriting curated_environment_train.py\n"
        }
      ],
      "execution_count": 2,
      "metadata": {
        "jupyter": {
          "source_hidden": false,
          "outputs_hidden": false
        },
        "nteract": {
          "transient": {
            "deleting": false
          }
        }
      }
    },
    {
      "cell_type": "code",
      "source": [
        "config = ScriptRunConfig(\r\n",
        "    source_directory='.', \r\n",
        "    script='curated_environment_train.py', \r\n",
        "    compute_target=cpu_target, \r\n",
        "    environment=curated_env,\r\n",
        "    )\r\n",
        "\r\n",
        "run = experiment.submit(config)\r\n",
        "run"
      ],
      "outputs": [
        {
          "output_type": "execute_result",
          "execution_count": 3,
          "data": {
            "text/plain": "Run(Experiment: curated-environment-experiment,\nId: curated-environment-experiment_1662797108_646e4212,\nType: azureml.scriptrun,\nStatus: Starting)",
            "text/html": "<table style=\"width:100%\"><tr><th>Experiment</th><th>Id</th><th>Type</th><th>Status</th><th>Details Page</th><th>Docs Page</th></tr><tr><td>curated-environment-experiment</td><td>curated-environment-experiment_1662797108_646e4212</td><td>azureml.scriptrun</td><td>Starting</td><td><a href=\"https://ml.azure.com/runs/curated-environment-experiment_1662797108_646e4212?wsid=/subscriptions/bbcac4cb-3713-4dc7-ad64-f8ffd50248c3/resourcegroups/rg-machinelearning-bigdatafecisa/workspaces/mlw-bigdatafecisa&amp;tid=da060e56-5e46-475d-8b74-5fb187bd2177\" target=\"_blank\" rel=\"noopener\">Link to Azure Machine Learning studio</a></td><td><a href=\"https://docs.microsoft.com/en-us/python/api/azureml-core/azureml.core.script_run.ScriptRun?view=azure-ml-py\" target=\"_blank\" rel=\"noopener\">Link to Documentation</a></td></tr></table>"
          },
          "metadata": {}
        }
      ],
      "execution_count": 3,
      "metadata": {
        "jupyter": {
          "source_hidden": false,
          "outputs_hidden": false
        },
        "nteract": {
          "transient": {
            "deleting": false
          }
        },
        "gather": {
          "logged": 1662797110623
        }
      }
    }
  ],
  "metadata": {
    "kernelspec": {
      "name": "python38-azureml",
      "language": "python",
      "display_name": "Python 3.8 - AzureML"
    },
    "language_info": {
      "name": "python",
      "version": "3.8.5",
      "mimetype": "text/x-python",
      "codemirror_mode": {
        "name": "ipython",
        "version": 3
      },
      "pygments_lexer": "ipython3",
      "nbconvert_exporter": "python",
      "file_extension": ".py"
    },
    "kernel_info": {
      "name": "python38-azureml"
    },
    "nteract": {
      "version": "nteract-front-end@1.0.0"
    }
  },
  "nbformat": 4,
  "nbformat_minor": 2
}