{
  "cells": [
    {
      "cell_type": "code",
      "source": [
        "# 0. Initial Config\r\n",
        "from azureml.core import Workspace, Experiment, ScriptRunConfig\r\n",
        "from azureml.core.compute import ComputeTarget, AmlCompute\r\n",
        "from azureml.core.compute_target import ComputeTargetException\r\n",
        "\r\n",
        "ws = Workspace.from_config()"
      ],
      "outputs": [],
      "execution_count": 1,
      "metadata": {
        "gather": {
          "logged": 1663612433816
        }
      }
    },
    {
      "cell_type": "code",
      "source": [
        "# get/create a compute instance\r\n",
        "cpu_cluster_name = \"tutorial-ma\"\r\n",
        "# ... trying to get an instance\r\n",
        "try:\r\n",
        "    cpu_cluster = ComputeTarget(ws, cpu_cluster_name)\r\n",
        "    print(f\"Found existing cluster '{cpu_cluster_name}'\")\r\n",
        "# ... creating an instance\r\n",
        "except ComputeTargetException:\r\n",
        "    compute_cofig = AmlCompute.provisioning_configuration(\r\n",
        "        vm_size='Standard_DS11_v2',\r\n",
        "        max_nodes=2,\r\n",
        "        idle_seconds_before_scaledown=60*15,\r\n",
        "        )\r\n",
        "    cpu_cluster = ComputeTarget.create(ws, cpu_cluster_name, compute_cofig)\r\n",
        "\r\n",
        "cpu_cluster.wait_for_completion(show_output=True)"
      ],
      "outputs": [
        {
          "output_type": "stream",
          "name": "stdout",
          "text": "Found existing cluster 'tutorial-ma'\n\nRunning\n"
        }
      ],
      "execution_count": 2,
      "metadata": {
        "jupyter": {
          "source_hidden": false,
          "outputs_hidden": false
        },
        "nteract": {
          "transient": {
            "deleting": false
          }
        },
        "gather": {
          "logged": 1663612490591
        }
      }
    },
    {
      "cell_type": "code",
      "source": [
        "# Submit Run\r\n",
        "# ... create experiment\r\n",
        "experiment = Experiment(ws, name='hello-world-experiment')\r\n",
        "# ... create a run config\r\n",
        "config = ScriptRunConfig(\r\n",
        "    source_directory='.', \r\n",
        "    script='hello_world.py', \r\n",
        "    compute_target=cpu_cluster_name,\r\n",
        "    )\r\n",
        "# ... sumbit the run to the experiment\r\n",
        "run = experiment.submit(config)\r\n",
        "\r\n",
        "aml_url = run.get_portal_url()\r\n",
        "print(aml_url)"
      ],
      "outputs": [
        {
          "output_type": "stream",
          "name": "stdout",
          "text": "https://ml.azure.com/runs/hello-world-experiment_1663612583_6c54f6ce?wsid=/subscriptions/bbcac4cb-3713-4dc7-ad64-f8ffd50248c3/resourcegroups/rg-machinelearning-bigdatafecisa/workspaces/mlw-bigdatafecisa&tid=da060e56-5e46-475d-8b74-5fb187bd2177\n"
        }
      ],
      "execution_count": 4,
      "metadata": {
        "jupyter": {
          "source_hidden": false,
          "outputs_hidden": false
        },
        "nteract": {
          "transient": {
            "deleting": false
          }
        },
        "gather": {
          "logged": 1663612589423
        }
      }
    }
  ],
  "metadata": {
    "kernelspec": {
      "name": "python38-azureml",
      "language": "python",
      "display_name": "Python 3.8 - AzureML"
    },
    "language_info": {
      "name": "python",
      "version": "3.8.5",
      "mimetype": "text/x-python",
      "codemirror_mode": {
        "name": "ipython",
        "version": 3
      },
      "pygments_lexer": "ipython3",
      "nbconvert_exporter": "python",
      "file_extension": ".py"
    },
    "kernel_info": {
      "name": "python38-azureml"
    },
    "nteract": {
      "version": "nteract-front-end@1.0.0"
    },
    "microsoft": {
      "host": {
        "AzureML": {
          "notebookHasBeenCompleted": true
        }
      }
    }
  },
  "nbformat": 4,
  "nbformat_minor": 2
}