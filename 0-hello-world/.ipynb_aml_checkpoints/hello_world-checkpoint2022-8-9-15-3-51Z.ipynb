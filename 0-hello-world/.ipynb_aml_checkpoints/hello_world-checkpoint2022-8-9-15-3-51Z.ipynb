{
  "cells": [
    {
      "cell_type": "code",
      "source": [
        "# 0. Initial Config\r\n",
        "from azureml.core import Workspace\r\n",
        "from azureml.core.compute import ComputeTarget, AmlCompute\r\n",
        "from azureml.core.compute_target import ComputeTargetException\r\n",
        "\r\n",
        "ws = Workspace.from_config()"
      ],
      "outputs": [],
      "execution_count": 7,
      "metadata": {
        "gather": {
          "logged": 1662735809297
        }
      }
    },
    {
      "cell_type": "code",
      "source": [
        "# get/create a compute instance\r\n",
        "cpu_cluster_name = \"tutorial-ma\"\r\n",
        "try:\r\n",
        "    cpu_cluster = ComputeTarget(ws, cpu_cluster_name)\r\n",
        "    print(f\"Found existing cluster '{cpu_cluster_name}'\")\r\n",
        "except ComputeTargetException:\r\n",
        "    AmlCompute.provision_"
      ],
      "outputs": [],
      "execution_count": null,
      "metadata": {
        "jupyter": {
          "source_hidden": false,
          "outputs_hidden": false
        },
        "nteract": {
          "transient": {
            "deleting": false
          }
        }
      }
    }
  ],
  "metadata": {
    "kernelspec": {
      "name": "python38-azureml",
      "language": "python",
      "display_name": "Python 3.8 - AzureML"
    },
    "language_info": {
      "name": "python",
      "version": "3.8.5",
      "mimetype": "text/x-python",
      "codemirror_mode": {
        "name": "ipython",
        "version": 3
      },
      "pygments_lexer": "ipython3",
      "nbconvert_exporter": "python",
      "file_extension": ".py"
    },
    "kernel_info": {
      "name": "python38-azureml"
    },
    "nteract": {
      "version": "nteract-front-end@1.0.0"
    }
  },
  "nbformat": 4,
  "nbformat_minor": 2
}