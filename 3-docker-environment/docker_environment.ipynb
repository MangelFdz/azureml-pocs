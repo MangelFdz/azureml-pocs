{
  "cells": [
    {
      "cell_type": "code",
      "source": [
        "from azureml.core import Workspace, Environment, ComputeTarget\r\n",
        "\r\n",
        "ws = Workspace.from_config()\r\n",
        "\r\n",
        "cpu_target = ComputeTarget(ws, name='tutorial-ma')\r\n",
        "\r\n",
        "myenv = Environment(workspace=ws, name='docker-environment')"
      ],
      "outputs": [],
      "execution_count": 1,
      "metadata": {
        "gather": {
          "logged": 1662799299010
        }
      }
    },
    {
      "cell_type": "code",
      "source": [
        "# Specify dockerfile\r\n",
        "docker_file = r\"\"\"\r\n",
        "FROM mcr.microsoft.com/azureml/openmpi3.1.2-ubuntu18.04\r\n",
        "RUN echo \"Hello world from custom container!\"\r\n",
        "\"\"\"\r\n",
        "\r\n",
        "# Set image to None, because the image is defined by dockerfile.\r\n",
        "myenv.docker.base_image = None\r\n",
        "myenv.docker.base_dockerfile = docker_file\r\n",
        "_ = myenv.register(ws)"
      ],
      "outputs": [],
      "execution_count": 2,
      "metadata": {
        "jupyter": {
          "source_hidden": false,
          "outputs_hidden": false
        },
        "nteract": {
          "transient": {
            "deleting": false
          }
        },
        "gather": {
          "logged": 1662799300245
        }
      }
    },
    {
      "cell_type": "code",
      "source": [
        "%%writefile docker_environment_train.py\r\n",
        "\r\n",
        "print('Hello within a container!')"
      ],
      "outputs": [
        {
          "output_type": "stream",
          "name": "stdout",
          "text": "Overwriting docker_environment_train.py\n"
        }
      ],
      "execution_count": 3,
      "metadata": {
        "jupyter": {
          "source_hidden": false,
          "outputs_hidden": false
        },
        "nteract": {
          "transient": {
            "deleting": false
          }
        },
        "gather": {
          "logged": 1662799016083
        }
      }
    },
    {
      "cell_type": "code",
      "source": [
        "from azureml.core import Experiment, ScriptRunConfig\r\n",
        "\r\n",
        "experiment = Experiment(ws, name='docker-environment-experiment')\r\n",
        "\r\n",
        "config = ScriptRunConfig(\r\n",
        "    source_directory='.',\r\n",
        "    script='docker_environment_train.py',\r\n",
        "    compute_target=cpu_target,\r\n",
        "    environment=myenv,\r\n",
        "    )\r\n",
        "\r\n",
        "run = experiment.submit(config)\r\n",
        "print(run.get_portal_url())"
      ],
      "outputs": [
        {
          "output_type": "stream",
          "name": "stdout",
          "text": "https://ml.azure.com/runs/docker-environment-experiment_1662799303_a044fe7d?wsid=/subscriptions/bbcac4cb-3713-4dc7-ad64-f8ffd50248c3/resourcegroups/rg-machinelearning-bigdatafecisa/workspaces/mlw-bigdatafecisa&tid=da060e56-5e46-475d-8b74-5fb187bd2177\n"
        }
      ],
      "execution_count": 4,
      "metadata": {
        "jupyter": {
          "source_hidden": false,
          "outputs_hidden": false
        },
        "nteract": {
          "transient": {
            "deleting": false
          }
        },
        "gather": {
          "logged": 1662799305363
        }
      }
    }
  ],
  "metadata": {
    "kernelspec": {
      "name": "python38-azureml",
      "language": "python",
      "display_name": "Python 3.8 - AzureML"
    },
    "language_info": {
      "name": "python",
      "version": "3.8.5",
      "mimetype": "text/x-python",
      "codemirror_mode": {
        "name": "ipython",
        "version": 3
      },
      "pygments_lexer": "ipython3",
      "nbconvert_exporter": "python",
      "file_extension": ".py"
    },
    "kernel_info": {
      "name": "python38-azureml"
    },
    "nteract": {
      "version": "nteract-front-end@1.0.0"
    },
    "microsoft": {
      "host": {
        "AzureML": {
          "notebookHasBeenCompleted": true
        }
      }
    }
  },
  "nbformat": 4,
  "nbformat_minor": 2
}